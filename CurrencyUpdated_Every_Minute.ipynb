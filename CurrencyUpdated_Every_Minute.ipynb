{
 "cells": [
  {
   "cell_type": "code",
   "execution_count": 144,
   "metadata": {},
   "outputs": [],
   "source": [
    "import requests\n",
    "import csv\n",
    "from bs4 import BeautifulSoup\n",
    "from datetime import datetime"
   ]
  },
  {
   "cell_type": "code",
   "execution_count": 167,
   "metadata": {},
   "outputs": [],
   "source": [
    "response = requests.get(\"https://www.exchangerates.org.uk/Dollars-to-Egyptian-Pounds-currency-conversion-page.html\")\n",
    "Data_response = BeautifulSoup(response.text)\n",
    "data = Data_response.find_all(\"span\")[11]\n",
    "Egp_Currency = str(data)[-14:-7]\n",
    "Egp_Currency = Egp_Currency.strip('\">')\n",
    "date = datetime.today()\n",
    "time = datetime.now()\n",
    "datetime_now = datetime.now().strftime(\"%d/%m/%Y %H:%M:%S\")"
   ]
  },
  {
   "cell_type": "code",
   "execution_count": 142,
   "metadata": {},
   "outputs": [],
   "source": [
    "with open(\"Currency_Updated.csv\",\"w\",newline = \"\") as f :\n",
    "    writer=csv.DictWriter(f,fieldnames=[\"Date\",\"Currency\"])\n",
    "    writer.writeheader()\n",
    "\n",
    "    "
   ]
  },
  {
   "cell_type": "code",
   "execution_count": 168,
   "metadata": {},
   "outputs": [],
   "source": [
    "with open(\"Currency_Updated.csv\",\"a\",newline = \"\") as f :\n",
    "    writer=csv.DictWriter(f,fieldnames=[\"Date\",\"Currency\"])\n",
    "\n",
    "    writer.writerow(\n",
    "        {\n",
    "           \"Date\" : datetime_now,\n",
    "           \"Currency\" : Egp_Currency\n",
    "           }\n",
    "        )\n",
    "    \n",
    "       "
   ]
  }
 ],
 "metadata": {
  "interpreter": {
   "hash": "b3ba2566441a7c06988d0923437866b63cedc61552a5af99d1f4fb67d367b25f"
  },
  "kernelspec": {
   "display_name": "Python 3.8.8 ('base')",
   "language": "python",
   "name": "python3"
  },
  "language_info": {
   "codemirror_mode": {
    "name": "ipython",
    "version": 3
   },
   "file_extension": ".py",
   "mimetype": "text/x-python",
   "name": "python",
   "nbconvert_exporter": "python",
   "pygments_lexer": "ipython3",
   "version": "3.8.8"
  },
  "orig_nbformat": 4
 },
 "nbformat": 4,
 "nbformat_minor": 2
}
