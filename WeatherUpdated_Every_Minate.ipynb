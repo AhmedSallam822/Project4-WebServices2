{
 "cells": [
  {
   "cell_type": "code",
   "execution_count": 3,
   "metadata": {},
   "outputs": [],
   "source": [
    "import requests\n",
    "import csv\n",
    "from bs4 import BeautifulSoup\n",
    "import time\n",
    "import datetime"
   ]
  },
  {
   "cell_type": "markdown",
   "metadata": {},
   "source": [
    "## Open CSV File and Write Headers"
   ]
  },
  {
   "cell_type": "code",
   "execution_count": 10,
   "metadata": {},
   "outputs": [],
   "source": [
    "with open(\"Weather_Updated.csv\",\"w\",newline = \"\") as f :\n",
    "        writer=csv.DictWriter(f ,fieldnames=[\"Datetime\",\"temperature\",\"WindSpeed\",\"Humidity\",\"Visibility\",\"Pressure\"])\n",
    "        writer.writeheader()"
   ]
  },
  {
   "cell_type": "markdown",
   "metadata": {},
   "source": [
    "## Scraping Using HTML in Each Minute to Extract Informations for 10 Minutes"
   ]
  },
  {
   "cell_type": "code",
   "execution_count": 11,
   "metadata": {},
   "outputs": [],
   "source": [
    "for i in range (1,11):\n",
    "\n",
    "    response = requests.get(\"https://eg.freemeteo.com/weather/cairo/current-weather/location/?gid=360630&language=english&country=egypt\")\n",
    "    Data_response = BeautifulSoup(response.text)\n",
    "\n",
    "    \n",
    "    temp = Data_response.find(\"div\", class_ = \"temp\").text\n",
    "\n",
    "    \n",
    "    wind = Data_response.find(\"div\", class_ = \"wind\").text[-8:]\n",
    "\n",
    "    \n",
    "    data = Data_response.find(\"div\", class_ = \"stats\").text\n",
    "    data = data.split(\"|\")\n",
    "\n",
    "    \n",
    "    humidity = data[0][-6:-1].strip()\n",
    "\n",
    "    \n",
    "    visiibility = data[1][-8:-1].strip()\n",
    "\n",
    "    \n",
    "    pressure = data[2][-10:-1].strip()\n",
    "\n",
    "    \n",
    "    datetime_now = datetime.datetime.now().strftime(\"%d/%m/%Y %H:%M:%S\")\n",
    "    datetime_now\n",
    "\n",
    "\n",
    "    \n",
    "    with open(\"Weather_Updated.csv\",\"a\",newline = \"\") as f :\n",
    "        writer=csv.DictWriter(f,fieldnames=[\"Datetime\",\"temperature\",\"WindSpeed\",\"Humidity\",\"Visibility\",\"Pressure\"])\n",
    "\n",
    "        writer.writerow(\n",
    "            {\n",
    "           \"Datetime\" : datetime_now,\n",
    "           \"temperature\" : temp,\n",
    "           \"WindSpeed\" : wind,\n",
    "           \"Humidity\" : humidity,\n",
    "           \"Visibility\": visiibility,\n",
    "           \"Pressure\": pressure\n",
    "           }\n",
    "        )\n",
    "    \n",
    "    \n",
    "    time.sleep(60)\n",
    "           "
   ]
  }
 ],
 "metadata": {
  "interpreter": {
   "hash": "b3ba2566441a7c06988d0923437866b63cedc61552a5af99d1f4fb67d367b25f"
  },
  "kernelspec": {
   "display_name": "Python 3.8.8 ('base')",
   "language": "python",
   "name": "python3"
  },
  "language_info": {
   "codemirror_mode": {
    "name": "ipython",
    "version": 3
   },
   "file_extension": ".py",
   "mimetype": "text/x-python",
   "name": "python",
   "nbconvert_exporter": "python",
   "pygments_lexer": "ipython3",
   "version": "3.8.8"
  },
  "orig_nbformat": 4
 },
 "nbformat": 4,
 "nbformat_minor": 2
}
