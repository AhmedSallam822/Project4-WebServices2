{
 "cells": [
  {
   "cell_type": "code",
   "execution_count": 3,
   "metadata": {},
   "outputs": [],
   "source": [
    "import requests\n",
    "import csv\n",
    "from bs4 import BeautifulSoup"
   ]
  },
  {
   "cell_type": "code",
   "execution_count": 4,
   "metadata": {},
   "outputs": [],
   "source": [
    "def Change_To_Num (x):\n",
    "\n",
    "    if x == \"One\" :\n",
    "        return 1    \n",
    "    elif x == \"Two\" :\n",
    "        return 2\n",
    "    elif x == \"Three\" :\n",
    "        return 3\n",
    "    elif x == \"Four\" :\n",
    "        return 4\n",
    "    elif x == \"Five\" :\n",
    "        return 5    "
   ]
  },
  {
   "cell_type": "code",
   "execution_count": 13,
   "metadata": {},
   "outputs": [],
   "source": [
    "book_names =[]\n",
    "\n",
    "books_prices = []\n",
    "\n",
    "book_rating = []\n",
    "\n",
    "for i in range(1,51):\n",
    "    \n",
    "    response = requests.get(f\"https://books.toscrape.com/catalogue/page-{i}.html\")\n",
    "    data = BeautifulSoup(response.text)\n",
    "\n",
    "\n",
    "\n",
    "    books_title = data.find_all(\"h3\")\n",
    "    for book in books_title:\n",
    "        book_names.append(str(book.find(\"a\")[\"title\"]))\n",
    "\n",
    "\n",
    "\n",
    "    book_price = data.find_all(\"p\",attrs=(\"price_color\"))   \n",
    "    for i in book_price:\n",
    "        x = str(i)\n",
    "        x = x[-10:-4]\n",
    "        books_prices.append(str(x))\n",
    "\n",
    "\n",
    "\n",
    "    book_rate = data.find_all(\"p\",attrs = (\"star-rating\"))  \n",
    "    for i in book_rate:\n",
    "        y = str(i)\n",
    "        y = y[22:27]\n",
    "        y = y.strip('\">')\n",
    "        y = str(Change_To_Num(y))\n",
    "        book_rating.append(y)\n",
    "\n",
    "all_books = list(zip(book_names,books_prices,book_rating))\n"
   ]
  },
  {
   "cell_type": "code",
   "execution_count": 23,
   "metadata": {},
   "outputs": [],
   "source": [
    "fields = ['Name', 'Price', 'rate'] \n",
    "\n",
    "# all column must be zipped     \n",
    "# name of csv file \n",
    "\n",
    "filename = \"Scrapred_Books.csv\"    \n",
    "# writing to csv file \n",
    "    \n",
    "with open(filename, 'w+',encoding=\"utf-8\",newline=\"\") as csvfile: \n",
    "    # creating a csv writer object \n",
    "    csvwriter = csv.writer(csvfile) \n",
    "        \n",
    "    # writing the fields \n",
    "    csvwriter.writerow(fields) \n",
    "        \n",
    "    # writing the data rows \n",
    "    csvwriter.writerows(all_books)\n"
   ]
  }
 ],
 "metadata": {
  "interpreter": {
   "hash": "b3ba2566441a7c06988d0923437866b63cedc61552a5af99d1f4fb67d367b25f"
  },
  "kernelspec": {
   "display_name": "Python 3.8.8 ('base')",
   "language": "python",
   "name": "python3"
  },
  "language_info": {
   "codemirror_mode": {
    "name": "ipython",
    "version": 3
   },
   "file_extension": ".py",
   "mimetype": "text/x-python",
   "name": "python",
   "nbconvert_exporter": "python",
   "pygments_lexer": "ipython3",
   "version": "3.8.8"
  },
  "orig_nbformat": 4
 },
 "nbformat": 4,
 "nbformat_minor": 2
}
